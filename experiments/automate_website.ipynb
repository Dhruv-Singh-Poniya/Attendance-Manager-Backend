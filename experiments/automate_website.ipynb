{
 "cells": [
  {
   "cell_type": "code",
   "execution_count": 23,
   "metadata": {},
   "outputs": [],
   "source": [
    "import requests\n",
    "from IPython.display import display, HTML\n",
    "from IPython.display import Image\n",
    "from PIL import Image as PILImage\n",
    "from io import BytesIO, StringIO\n",
    "import bs4\n",
    "import pandas as pd\n",
    "import pytesseract\n"
   ]
  },
  {
   "cell_type": "code",
   "execution_count": null,
   "metadata": {},
   "outputs": [],
   "source": [
    "session = requests.Session()\n",
    "\n",
    "headers = {\n",
    "    'User-Agent': 'Mozilla/5.0 (Windows NT 10.0; Win64; x64; rv:122.0) Gecko/20100101 Firefox/122.0',\n",
    "}\n"
   ]
  },
  {
   "cell_type": "markdown",
   "metadata": {},
   "source": [
    "## Login Page"
   ]
  },
  {
   "cell_type": "code",
   "execution_count": 24,
   "metadata": {},
   "outputs": [],
   "source": [
    "SRM_STUDENT_PORTAL_URI = 'https://sp.srmist.edu.in/srmiststudentportal/students/loginManager/youLogin.jsp'\n",
    "\n",
    "response = session.get(\n",
    "    'https://sp.srmist.edu.in/srmiststudentportal/students/loginManager/youLogin.jsp',\n",
    "    headers=headers,\n",
    ")\n",
    "\n",
    "# session.cookies\n"
   ]
  },
  {
   "cell_type": "code",
   "execution_count": 25,
   "metadata": {},
   "outputs": [],
   "source": [
    "SRM_STUDENT_PORTAL_GET_CAPTCHA_URI = 'https://sp.srmist.edu.in/srmiststudentportal/captchas'\n",
    "\n",
    "response = session.get(\n",
    "    SRM_STUDENT_PORTAL_GET_CAPTCHA_URI,\n",
    "    headers=headers,\n",
    ")\n",
    "\n",
    "capcha_bin = response.content\n",
    "capcha_text = pytesseract.image_to_string(PILImage.open(BytesIO(capcha_bin))).strip()\n",
    "\n",
    "# print(f'Capcha: {capcha_text}')\n",
    "# display(Image(data=capcha_bin))\n"
   ]
  },
  {
   "cell_type": "code",
   "execution_count": 26,
   "metadata": {},
   "outputs": [
    {
     "data": {
      "text/plain": [
       "-1"
      ]
     },
     "execution_count": 26,
     "metadata": {},
     "output_type": "execute_result"
    }
   ],
   "source": [
    "data = {\n",
    "    'txtPageAction': '1',\n",
    "    'txtSK': 'Mymail@06',\n",
    "    'txtAN': 'dm0359',\n",
    "    'hdnCaptcha': capcha_text,\n",
    "}\n",
    "\n",
    "session.post(\n",
    "    SRM_STUDENT_PORTAL_URI,\n",
    "    data=data,\n",
    ").text.find('Login Error : Invalid net id or password')\n"
   ]
  },
  {
   "cell_type": "markdown",
   "metadata": {},
   "source": [
    "## Attendance"
   ]
  },
  {
   "cell_type": "code",
   "execution_count": 27,
   "metadata": {},
   "outputs": [],
   "source": [
    "ATTENDENCE_PAGE_URI = 'https://sp.srmist.edu.in/srmiststudentportal/students/report/studentAttendanceDetails.jsp'\n",
    "\n",
    "response = session.post(\n",
    "    ATTENDENCE_PAGE_URI,\n",
    ")\n"
   ]
  },
  {
   "cell_type": "code",
   "execution_count": 28,
   "metadata": {},
   "outputs": [
    {
     "data": {
      "text/html": [
       "<div>\n",
       "<style scoped>\n",
       "    .dataframe tbody tr th:only-of-type {\n",
       "        vertical-align: middle;\n",
       "    }\n",
       "\n",
       "    .dataframe tbody tr th {\n",
       "        vertical-align: top;\n",
       "    }\n",
       "\n",
       "    .dataframe thead th {\n",
       "        text-align: right;\n",
       "    }\n",
       "</style>\n",
       "<table border=\"1\" class=\"dataframe\">\n",
       "  <thead>\n",
       "    <tr style=\"text-align: right;\">\n",
       "      <th></th>\n",
       "      <th>Code</th>\n",
       "      <th>Description</th>\n",
       "      <th>Max. hours</th>\n",
       "      <th>Att. hours</th>\n",
       "      <th>Absent hours</th>\n",
       "      <th>Average %</th>\n",
       "      <th>OD/ML Percentage</th>\n",
       "      <th>Total Percentage</th>\n",
       "    </tr>\n",
       "  </thead>\n",
       "  <tbody>\n",
       "    <tr>\n",
       "      <th>0</th>\n",
       "      <td>21CSC204J</td>\n",
       "      <td>DESIGN AND ANALYSIS OF ALGORITHMS</td>\n",
       "      <td>26</td>\n",
       "      <td>20</td>\n",
       "      <td>6</td>\n",
       "      <td>76.92</td>\n",
       "      <td>0.0</td>\n",
       "      <td>76.92</td>\n",
       "    </tr>\n",
       "    <tr>\n",
       "      <th>1</th>\n",
       "      <td>21CSC205P</td>\n",
       "      <td>DATABASE MANAGEMENT SYSTEMS</td>\n",
       "      <td>28</td>\n",
       "      <td>19</td>\n",
       "      <td>9</td>\n",
       "      <td>67.86</td>\n",
       "      <td>0.0</td>\n",
       "      <td>67.86</td>\n",
       "    </tr>\n",
       "    <tr>\n",
       "      <th>2</th>\n",
       "      <td>21CSC206T</td>\n",
       "      <td>ARTIFICIAL INTELLIGENCE</td>\n",
       "      <td>26</td>\n",
       "      <td>20</td>\n",
       "      <td>6</td>\n",
       "      <td>76.92</td>\n",
       "      <td>0.0</td>\n",
       "      <td>76.92</td>\n",
       "    </tr>\n",
       "    <tr>\n",
       "      <th>3</th>\n",
       "      <td>21CSE251T</td>\n",
       "      <td>DIGITAL IMAGE PROCESSING</td>\n",
       "      <td>19</td>\n",
       "      <td>16</td>\n",
       "      <td>3</td>\n",
       "      <td>84.21</td>\n",
       "      <td>0.0</td>\n",
       "      <td>84.21</td>\n",
       "    </tr>\n",
       "    <tr>\n",
       "      <th>4</th>\n",
       "      <td>21LEM202T</td>\n",
       "      <td>UNIVERSAL HUMAN VALUES - II: UNDERSTANDING HAR...</td>\n",
       "      <td>10</td>\n",
       "      <td>4</td>\n",
       "      <td>6</td>\n",
       "      <td>40.00</td>\n",
       "      <td>0.0</td>\n",
       "      <td>40.00</td>\n",
       "    </tr>\n",
       "    <tr>\n",
       "      <th>5</th>\n",
       "      <td>21MAB204T</td>\n",
       "      <td>PROBABILITY AND QUEUEING THEORY</td>\n",
       "      <td>26</td>\n",
       "      <td>20</td>\n",
       "      <td>6</td>\n",
       "      <td>76.92</td>\n",
       "      <td>0.0</td>\n",
       "      <td>76.92</td>\n",
       "    </tr>\n",
       "    <tr>\n",
       "      <th>6</th>\n",
       "      <td>21PDH201T</td>\n",
       "      <td>SOCIAL ENGINEERING</td>\n",
       "      <td>10</td>\n",
       "      <td>6</td>\n",
       "      <td>4</td>\n",
       "      <td>60.00</td>\n",
       "      <td>0.0</td>\n",
       "      <td>60.00</td>\n",
       "    </tr>\n",
       "    <tr>\n",
       "      <th>7</th>\n",
       "      <td>21PDM202L</td>\n",
       "      <td>CRITICAL AND CREATIVE THINKING SKILLS</td>\n",
       "      <td>10</td>\n",
       "      <td>8</td>\n",
       "      <td>2</td>\n",
       "      <td>80.00</td>\n",
       "      <td>0.0</td>\n",
       "      <td>80.00</td>\n",
       "    </tr>\n",
       "  </tbody>\n",
       "</table>\n",
       "</div>"
      ],
      "text/plain": [
       "        Code                                        Description  Max. hours  \\\n",
       "0  21CSC204J                  DESIGN AND ANALYSIS OF ALGORITHMS          26   \n",
       "1  21CSC205P                        DATABASE MANAGEMENT SYSTEMS          28   \n",
       "2  21CSC206T                            ARTIFICIAL INTELLIGENCE          26   \n",
       "3  21CSE251T                           DIGITAL IMAGE PROCESSING          19   \n",
       "4  21LEM202T  UNIVERSAL HUMAN VALUES - II: UNDERSTANDING HAR...          10   \n",
       "5  21MAB204T                    PROBABILITY AND QUEUEING THEORY          26   \n",
       "6  21PDH201T                                 SOCIAL ENGINEERING          10   \n",
       "7  21PDM202L              CRITICAL AND CREATIVE THINKING SKILLS          10   \n",
       "\n",
       "   Att. hours  Absent hours  Average %  OD/ML Percentage  Total Percentage  \n",
       "0          20             6      76.92               0.0             76.92  \n",
       "1          19             9      67.86               0.0             67.86  \n",
       "2          20             6      76.92               0.0             76.92  \n",
       "3          16             3      84.21               0.0             84.21  \n",
       "4           4             6      40.00               0.0             40.00  \n",
       "5          20             6      76.92               0.0             76.92  \n",
       "6           6             4      60.00               0.0             60.00  \n",
       "7           8             2      80.00               0.0             80.00  "
      ]
     },
     "execution_count": 28,
     "metadata": {},
     "output_type": "execute_result"
    }
   ],
   "source": [
    "soup = bs4.BeautifulSoup(response.text, 'html.parser')\n",
    "table = soup.findAll('table', class_='table')[0]\n",
    "\n",
    "df = pd.read_html(StringIO(str(table)))[0]\n",
    "\n",
    "# Remove rows whoose `Code` matches below list\n",
    "code_blacklist = ['CL', 'Total']\n",
    "df = df[~df['Code'].isin(code_blacklist)]\n",
    "df\n"
   ]
  },
  {
   "cell_type": "code",
   "execution_count": 29,
   "metadata": {},
   "outputs": [
    {
     "name": "stdout",
     "output_type": "stream",
     "text": [
      "[[2024, 1], [2024, 2]]\n"
     ]
    }
   ],
   "source": [
    "soup = bs4.BeautifulSoup(response.text, 'html.parser')\n",
    "table = soup.findAll('table', class_='table')[1]\n",
    "\n",
    "df = pd.read_html(StringIO(str(table)))[0]\n",
    "# month_map = {'JAN': 1, 'FEB': 2,'MAR': 3, 'APR': 4, 'MAY': 5, 'JUN': 6, 'JUL': 7, 'AUG': 8, 'SEP': 9, 'OCT': 10, 'NOV': 11, 'DEC': 12}\n",
    "# Extracting the month and year where there are entries\n",
    "months_years = []\n",
    "for index, row in df.iterrows():\n",
    "    month, year = row['Month / Year'].split(' / ')\n",
    "    if row[['Present', 'Absent']].sum() > 0:\n",
    "        months_years.append([int(year), pd.to_datetime(month, format='%b').month])\n",
    "\n",
    "print(months_years)\n"
   ]
  },
  {
   "cell_type": "code",
   "execution_count": 30,
   "metadata": {},
   "outputs": [
    {
     "name": "stdout",
     "output_type": "stream",
     "text": [
      "JAN 2024\n",
      "FEB 2024\n"
     ]
    }
   ],
   "source": [
    "df = pd.read_html(StringIO(str(table)))[0]\n",
    "for index, row in df.iterrows():\n",
    "    mon, year = row['Month / Year'].split(' / ')\n",
    "    print(mon, year)\n"
   ]
  },
  {
   "cell_type": "code",
   "execution_count": 31,
   "metadata": {},
   "outputs": [
    {
     "data": {
      "text/plain": [
       "[{'Date': '12-01-2024', 'Absent hours': 6},\n",
       " {'Date': '17-01-2024', 'Absent hours': 5},\n",
       " {'Date': '18-01-2024', 'Absent hours': 1},\n",
       " {'Date': '19-01-2024', 'Absent hours': 4},\n",
       " {'Date': '24-01-2024', 'Absent hours': 1},\n",
       " {'Date': '25-01-2024', 'Absent hours': 6},\n",
       " {'Date': '31-01-2024', 'Absent hours': 6}]"
      ]
     },
     "execution_count": 31,
     "metadata": {},
     "output_type": "execute_result"
    }
   ],
   "source": [
    "MONTHLY_ATTENDENCE_PAGE_URI = 'https://sp.srmist.edu.in/srmiststudentportal/students/report/studentAttendanceDetailsInner.jsp'\n",
    "response = session.post(\n",
    "    MONTHLY_ATTENDENCE_PAGE_URI,\n",
    "    data={'ids': 1, 'attendanceMonth': 1, 'attendanceYear': 2024},\n",
    ")\n",
    "lst = []\n",
    "import ast\n",
    "df = pd.read_html(StringIO(str(response.text)))[0]\n",
    "lst.extend(ast.literal_eval(df.to_json(index=False, orient='records')))\n",
    "lst\n"
   ]
  },
  {
   "cell_type": "markdown",
   "metadata": {},
   "source": [
    "## Timetable"
   ]
  },
  {
   "cell_type": "code",
   "execution_count": 211,
   "metadata": {},
   "outputs": [
    {
     "data": {
      "text/plain": [
       "{'Monday': {'9:20-10:10': 'DESIGN AND ANALYSIS OF ALGORITHMS',\n",
       "  '10:10-11:00': 'DATABASE MANAGEMENT SYSTEMS',\n",
       "  '11:10-12:00': 'ARTIFICIAL INTELLIGENCE',\n",
       "  '12:00-12:50': 'PROBABILITY AND QUEUEING THEORY',\n",
       "  '2:00-2:50': 'DIGITAL IMAGE PROCESSING / PROGRAMMING IN JAVA',\n",
       "  '2:50-3:40': 'CRITICAL AND CREATIVE THINKING SKILLS',\n",
       "  '3:40-4:30': 'SOCIAL ENGINEERING'},\n",
       " 'Tuesday': {'9:20-10:10': 'DESIGN AND ANALYSIS OF ALGORITHMS',\n",
       "  '10:10-11:00': 'DESIGN AND ANALYSIS OF ALGORITHMS',\n",
       "  '11:10-12:00': None,\n",
       "  '12:00-12:50': 'ARTIFICIAL INTELLIGENCE',\n",
       "  '2:00-2:50': 'DIGITAL IMAGE PROCESSING / PROGRAMMING IN JAVA',\n",
       "  '2:50-3:40': 'PROBABILITY AND QUEUEING THEORY',\n",
       "  '3:40-4:30': 'DATABASE MANAGEMENT SYSTEMS'},\n",
       " 'Wednesday': {'9:20-10:10': 'DATABASE MANAGEMENT SYSTEMS',\n",
       "  '10:10-11:00': 'DESIGN AND ANALYSIS OF ALGORITHMS',\n",
       "  '11:10-12:00': 'PROBABILITY AND QUEUEING THEORY',\n",
       "  '12:00-12:50': 'UNIVERSAL HUMAN VALUES - II: UNDERSTANDING HARMONY AND ETHICAL HUMAN CONDUCT',\n",
       "  '2:00-2:50': 'DIGITAL IMAGE PROCESSING / PROGRAMMING IN JAVA',\n",
       "  '2:50-3:40': 'ARTIFICIAL INTELLIGENCE',\n",
       "  '3:40-4:30': 'DESIGN AND ANALYSIS OF ALGORITHMS'},\n",
       " 'Thursday': {'9:20-10:10': 'DATABASE MANAGEMENT SYSTEMS',\n",
       "  '10:10-11:00': 'DATABASE MANAGEMENT SYSTEMS',\n",
       "  '11:10-12:00': None,\n",
       "  '12:00-12:50': 'PROBABILITY AND QUEUEING THEORY',\n",
       "  '2:00-2:50': 'DIGITAL IMAGE PROCESSING / PROGRAMMING IN JAVA',\n",
       "  '2:50-3:40': 'PROBABILITY AND QUEUEING THEORY',\n",
       "  '3:40-4:30': 'ARTIFICIAL INTELLIGENCE'},\n",
       " 'Friday': {'9:20-10:10': 'UNIVERSAL HUMAN VALUES - II: UNDERSTANDING HARMONY AND ETHICAL HUMAN CONDUCT',\n",
       "  '10:10-11:00': 'CRITICAL AND CREATIVE THINKING SKILLS',\n",
       "  '11:10-12:00': 'ARTIFICIAL INTELLIGENCE',\n",
       "  '12:00-12:50': 'CLASS IN CHARGE',\n",
       "  '2:00-2:50': 'DATABASE MANAGEMENT SYSTEMS',\n",
       "  '2:50-3:40': 'DESIGN AND ANALYSIS OF ALGORITHMS',\n",
       "  '3:40-4:30': 'SOCIAL ENGINEERING'}}"
      ]
     },
     "execution_count": 211,
     "metadata": {},
     "output_type": "execute_result"
    }
   ],
   "source": [
    "response = session.post(\n",
    "    'https://sp.srmist.edu.in/srmiststudentportal/students/report/studentTimeTableDetails.jsp',\n",
    ")\n",
    "soup = bs4.BeautifulSoup(response.text, 'html.parser')\n",
    "timetable, legends = soup.findAll('table', class_='table')\n",
    "timetable = pd.read_html(StringIO(str(timetable)))[0]\n",
    "legends = pd.read_html(StringIO(str(legends)))[0]\n",
    "\n",
    "# Clean the timetable dataframe\n",
    "timetable.replace('-', pd.NA, inplace=True)\n",
    "timetable.columns = timetable.columns.droplevel(0)\n",
    "timetable.rename(columns={'Day order': 'Day'}, inplace=True)\n",
    "\n",
    "# Clean the legends dataframe\n",
    "legends.rename(columns={'Code': 'SubCode', 'Description': 'SubName'}, inplace=True)\n",
    "\n",
    "# Create a map of subject name to subject code\n",
    "sub_map = {data['SubCode'].strip(): data['SubName'].strip() for data in legends.to_dict(orient='records')}\n",
    "\n",
    "# Replace the subject name with subject code in the timetable dataframe\n",
    "for idx, row in timetable.iterrows():\n",
    "    for col in timetable.columns:\n",
    "        # If there is a single subject code in the cell\n",
    "        if row[col] in sub_map:\n",
    "            timetable.at[idx, col] = sub_map[row[col]]\n",
    "        \n",
    "        # For electives where there are multiple subject codes\n",
    "        elif isinstance(row[col], str) and len(row[col].split(' ')) > 1:\n",
    "            sub_codes = row[col].split(' ')\n",
    "            sub_names = [sub_map[sub_code] for sub_code in sub_codes]\n",
    "            timetable.at[idx, col] = ' / '.join(sub_names)\n",
    "\n",
    "class_time = ['Day', '9:20-10:10', '10:10-11:00', '11:10-12:00', '12:00-12:50', '2:00-2:50', '2:50-3:40', '3:40-4:30']\n",
    "\n",
    "timetable.drop('04:00-04:50', axis=1, inplace=True)\n",
    "timetable.columns = class_time\n",
    "timetable.drop(5, inplace=True)\n",
    "\n",
    "new_timetable = {}\n",
    "for item in timetable.to_dict(orient='records'):\n",
    "    day = ''\n",
    "    for key, value in item.items():\n",
    "        if key == 'Day':\n",
    "            day = value\n",
    "            new_timetable[day] = {}\n",
    "        else:\n",
    "            new_timetable[day][key] = value\n",
    "new_timetable\n"
   ]
  },
  {
   "cell_type": "markdown",
   "metadata": {},
   "source": [
    "## Benchmarks"
   ]
  },
  {
   "cell_type": "code",
   "execution_count": 10,
   "metadata": {},
   "outputs": [],
   "source": [
    "# import requests\n",
    "# url = \"http://127.0.0.1:8000/get_attendance_details\"\n",
    "# payload = {'username': 'dm0359', 'password': 'Mymail@06'}\n"
   ]
  },
  {
   "cell_type": "code",
   "execution_count": 11,
   "metadata": {},
   "outputs": [],
   "source": [
    "# %%timeit -n 1 -r 20\n",
    "# response = requests.request(\"POST\", url, data=payload)\n"
   ]
  }
 ],
 "metadata": {
  "kernelspec": {
   "display_name": "function_call_generator",
   "language": "python",
   "name": "python3"
  },
  "language_info": {
   "codemirror_mode": {
    "name": "ipython",
    "version": 3
   },
   "file_extension": ".py",
   "mimetype": "text/x-python",
   "name": "python",
   "nbconvert_exporter": "python",
   "pygments_lexer": "ipython3",
   "version": "3.12.0"
  }
 },
 "nbformat": 4,
 "nbformat_minor": 2
}
